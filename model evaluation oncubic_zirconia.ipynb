{
 "cells": [
  {
   "cell_type": "code",
   "execution_count": 1,
   "id": "4398a672",
   "metadata": {
    "ExecuteTime": {
     "end_time": "2023-12-13T12:42:57.907299Z",
     "start_time": "2023-12-13T12:42:52.875264Z"
    }
   },
   "outputs": [
    {
     "data": {
      "text/html": [
       "<div>\n",
       "<style scoped>\n",
       "    .dataframe tbody tr th:only-of-type {\n",
       "        vertical-align: middle;\n",
       "    }\n",
       "\n",
       "    .dataframe tbody tr th {\n",
       "        vertical-align: top;\n",
       "    }\n",
       "\n",
       "    .dataframe thead th {\n",
       "        text-align: right;\n",
       "    }\n",
       "</style>\n",
       "<table border=\"1\" class=\"dataframe\">\n",
       "  <thead>\n",
       "    <tr style=\"text-align: right;\">\n",
       "      <th></th>\n",
       "      <th>Unnamed: 0</th>\n",
       "      <th>carat</th>\n",
       "      <th>cut</th>\n",
       "      <th>color</th>\n",
       "      <th>clarity</th>\n",
       "      <th>depth</th>\n",
       "      <th>table</th>\n",
       "      <th>x</th>\n",
       "      <th>y</th>\n",
       "      <th>z</th>\n",
       "      <th>price</th>\n",
       "    </tr>\n",
       "  </thead>\n",
       "  <tbody>\n",
       "    <tr>\n",
       "      <th>0</th>\n",
       "      <td>1</td>\n",
       "      <td>0.30</td>\n",
       "      <td>Ideal</td>\n",
       "      <td>E</td>\n",
       "      <td>SI1</td>\n",
       "      <td>62.1</td>\n",
       "      <td>58.0</td>\n",
       "      <td>4.27</td>\n",
       "      <td>4.29</td>\n",
       "      <td>2.66</td>\n",
       "      <td>499</td>\n",
       "    </tr>\n",
       "    <tr>\n",
       "      <th>1</th>\n",
       "      <td>2</td>\n",
       "      <td>0.33</td>\n",
       "      <td>Premium</td>\n",
       "      <td>G</td>\n",
       "      <td>IF</td>\n",
       "      <td>60.8</td>\n",
       "      <td>58.0</td>\n",
       "      <td>4.42</td>\n",
       "      <td>4.46</td>\n",
       "      <td>2.70</td>\n",
       "      <td>984</td>\n",
       "    </tr>\n",
       "    <tr>\n",
       "      <th>2</th>\n",
       "      <td>3</td>\n",
       "      <td>0.90</td>\n",
       "      <td>Very Good</td>\n",
       "      <td>E</td>\n",
       "      <td>VVS2</td>\n",
       "      <td>62.2</td>\n",
       "      <td>60.0</td>\n",
       "      <td>6.04</td>\n",
       "      <td>6.12</td>\n",
       "      <td>3.78</td>\n",
       "      <td>6289</td>\n",
       "    </tr>\n",
       "    <tr>\n",
       "      <th>3</th>\n",
       "      <td>4</td>\n",
       "      <td>0.42</td>\n",
       "      <td>Ideal</td>\n",
       "      <td>F</td>\n",
       "      <td>VS1</td>\n",
       "      <td>61.6</td>\n",
       "      <td>56.0</td>\n",
       "      <td>4.82</td>\n",
       "      <td>4.80</td>\n",
       "      <td>2.96</td>\n",
       "      <td>1082</td>\n",
       "    </tr>\n",
       "    <tr>\n",
       "      <th>4</th>\n",
       "      <td>5</td>\n",
       "      <td>0.31</td>\n",
       "      <td>Ideal</td>\n",
       "      <td>F</td>\n",
       "      <td>VVS1</td>\n",
       "      <td>60.4</td>\n",
       "      <td>59.0</td>\n",
       "      <td>4.35</td>\n",
       "      <td>4.43</td>\n",
       "      <td>2.65</td>\n",
       "      <td>779</td>\n",
       "    </tr>\n",
       "  </tbody>\n",
       "</table>\n",
       "</div>"
      ],
      "text/plain": [
       "   Unnamed: 0  carat        cut color clarity  depth  table     x     y     z  \\\n",
       "0           1   0.30      Ideal     E     SI1   62.1   58.0  4.27  4.29  2.66   \n",
       "1           2   0.33    Premium     G      IF   60.8   58.0  4.42  4.46  2.70   \n",
       "2           3   0.90  Very Good     E    VVS2   62.2   60.0  6.04  6.12  3.78   \n",
       "3           4   0.42      Ideal     F     VS1   61.6   56.0  4.82  4.80  2.96   \n",
       "4           5   0.31      Ideal     F    VVS1   60.4   59.0  4.35  4.43  2.65   \n",
       "\n",
       "   price  \n",
       "0    499  \n",
       "1    984  \n",
       "2   6289  \n",
       "3   1082  \n",
       "4    779  "
      ]
     },
     "execution_count": 1,
     "metadata": {},
     "output_type": "execute_result"
    }
   ],
   "source": [
    "import pandas as pd\n",
    "import seaborn as sns\n",
    "\n",
    "df = pd.read_csv('cubic_zirconia.csv')\n",
    "df.head()"
   ]
  },
  {
   "cell_type": "code",
   "execution_count": 2,
   "id": "eb61b90e",
   "metadata": {
    "ExecuteTime": {
     "end_time": "2023-11-27T04:46:28.036794Z",
     "start_time": "2023-11-27T04:46:28.003973Z"
    }
   },
   "outputs": [
    {
     "data": {
      "text/plain": [
       "(26967, 11)"
      ]
     },
     "execution_count": 2,
     "metadata": {},
     "output_type": "execute_result"
    }
   ],
   "source": [
    "df.shape"
   ]
  },
  {
   "cell_type": "code",
   "execution_count": 3,
   "id": "bcd90ebf",
   "metadata": {
    "ExecuteTime": {
     "end_time": "2023-11-27T04:46:41.973967Z",
     "start_time": "2023-11-27T04:46:41.958806Z"
    }
   },
   "outputs": [
    {
     "data": {
      "text/plain": [
       "Unnamed: 0      int64\n",
       "carat         float64\n",
       "cut            object\n",
       "color          object\n",
       "clarity        object\n",
       "depth         float64\n",
       "table         float64\n",
       "x             float64\n",
       "y             float64\n",
       "z             float64\n",
       "price           int64\n",
       "dtype: object"
      ]
     },
     "execution_count": 3,
     "metadata": {},
     "output_type": "execute_result"
    }
   ],
   "source": [
    "df.dtypes"
   ]
  },
  {
   "cell_type": "code",
   "execution_count": 4,
   "id": "34f1033d",
   "metadata": {
    "ExecuteTime": {
     "end_time": "2023-11-27T04:47:06.012761Z",
     "start_time": "2023-11-27T04:47:05.978423Z"
    }
   },
   "outputs": [
    {
     "name": "stdout",
     "output_type": "stream",
     "text": [
      "<class 'pandas.core.frame.DataFrame'>\n",
      "RangeIndex: 26967 entries, 0 to 26966\n",
      "Data columns (total 11 columns):\n",
      " #   Column      Non-Null Count  Dtype  \n",
      "---  ------      --------------  -----  \n",
      " 0   Unnamed: 0  26967 non-null  int64  \n",
      " 1   carat       26967 non-null  float64\n",
      " 2   cut         26967 non-null  object \n",
      " 3   color       26967 non-null  object \n",
      " 4   clarity     26967 non-null  object \n",
      " 5   depth       26270 non-null  float64\n",
      " 6   table       26967 non-null  float64\n",
      " 7   x           26967 non-null  float64\n",
      " 8   y           26967 non-null  float64\n",
      " 9   z           26967 non-null  float64\n",
      " 10  price       26967 non-null  int64  \n",
      "dtypes: float64(6), int64(2), object(3)\n",
      "memory usage: 2.3+ MB\n"
     ]
    }
   ],
   "source": [
    "df.info()"
   ]
  },
  {
   "cell_type": "code",
   "execution_count": 5,
   "id": "1da23040",
   "metadata": {
    "ExecuteTime": {
     "end_time": "2023-11-27T04:47:31.587424Z",
     "start_time": "2023-11-27T04:47:31.529512Z"
    }
   },
   "outputs": [
    {
     "data": {
      "text/plain": [
       "0"
      ]
     },
     "execution_count": 5,
     "metadata": {},
     "output_type": "execute_result"
    }
   ],
   "source": [
    "df.duplicated().sum()"
   ]
  },
  {
   "cell_type": "code",
   "execution_count": 6,
   "id": "fda9a485",
   "metadata": {
    "ExecuteTime": {
     "end_time": "2023-11-27T04:47:57.179534Z",
     "start_time": "2023-11-27T04:47:57.163407Z"
    }
   },
   "outputs": [],
   "source": [
    "df.drop('Unnamed: 0', axis=1, inplace=True)"
   ]
  },
  {
   "cell_type": "code",
   "execution_count": 8,
   "id": "a09c525e",
   "metadata": {
    "ExecuteTime": {
     "end_time": "2023-11-27T04:49:18.980857Z",
     "start_time": "2023-11-27T04:49:18.956496Z"
    }
   },
   "outputs": [
    {
     "name": "stdout",
     "output_type": "stream",
     "text": [
      "cut\n",
      "Ideal        10816\n",
      "Premium       6899\n",
      "Very Good     6030\n",
      "Good          2441\n",
      "Fair           781\n",
      "Name: count, dtype: int64\n",
      "*********************************************\n",
      "color\n",
      "G    5661\n",
      "E    4917\n",
      "F    4729\n",
      "H    4102\n",
      "D    3344\n",
      "I    2771\n",
      "J    1443\n",
      "Name: count, dtype: int64\n",
      "*********************************************\n",
      "clarity\n",
      "SI1     6571\n",
      "VS2     6099\n",
      "SI2     4575\n",
      "VS1     4093\n",
      "VVS2    2531\n",
      "VVS1    1839\n",
      "IF       894\n",
      "I1       365\n",
      "Name: count, dtype: int64\n",
      "*********************************************\n"
     ]
    }
   ],
   "source": [
    "for i in df.select_dtypes(include='object').columns:\n",
    "    print(df[i].value_counts())\n",
    "    print('*'*45)"
   ]
  },
  {
   "cell_type": "code",
   "execution_count": 9,
   "id": "93aa95ba",
   "metadata": {
    "ExecuteTime": {
     "end_time": "2023-11-27T04:50:20.812308Z",
     "start_time": "2023-11-27T04:50:20.713088Z"
    }
   },
   "outputs": [
    {
     "data": {
      "text/html": [
       "<div>\n",
       "<style scoped>\n",
       "    .dataframe tbody tr th:only-of-type {\n",
       "        vertical-align: middle;\n",
       "    }\n",
       "\n",
       "    .dataframe tbody tr th {\n",
       "        vertical-align: top;\n",
       "    }\n",
       "\n",
       "    .dataframe thead th {\n",
       "        text-align: right;\n",
       "    }\n",
       "</style>\n",
       "<table border=\"1\" class=\"dataframe\">\n",
       "  <thead>\n",
       "    <tr style=\"text-align: right;\">\n",
       "      <th></th>\n",
       "      <th>count</th>\n",
       "      <th>mean</th>\n",
       "      <th>std</th>\n",
       "      <th>min</th>\n",
       "      <th>25%</th>\n",
       "      <th>50%</th>\n",
       "      <th>75%</th>\n",
       "      <th>max</th>\n",
       "    </tr>\n",
       "  </thead>\n",
       "  <tbody>\n",
       "    <tr>\n",
       "      <th>carat</th>\n",
       "      <td>26967.0</td>\n",
       "      <td>0.798375</td>\n",
       "      <td>0.477745</td>\n",
       "      <td>0.2</td>\n",
       "      <td>0.40</td>\n",
       "      <td>0.70</td>\n",
       "      <td>1.05</td>\n",
       "      <td>4.50</td>\n",
       "    </tr>\n",
       "    <tr>\n",
       "      <th>depth</th>\n",
       "      <td>26270.0</td>\n",
       "      <td>61.745147</td>\n",
       "      <td>1.412860</td>\n",
       "      <td>50.8</td>\n",
       "      <td>61.00</td>\n",
       "      <td>61.80</td>\n",
       "      <td>62.50</td>\n",
       "      <td>73.60</td>\n",
       "    </tr>\n",
       "    <tr>\n",
       "      <th>table</th>\n",
       "      <td>26967.0</td>\n",
       "      <td>57.456080</td>\n",
       "      <td>2.232068</td>\n",
       "      <td>49.0</td>\n",
       "      <td>56.00</td>\n",
       "      <td>57.00</td>\n",
       "      <td>59.00</td>\n",
       "      <td>79.00</td>\n",
       "    </tr>\n",
       "    <tr>\n",
       "      <th>x</th>\n",
       "      <td>26967.0</td>\n",
       "      <td>5.729854</td>\n",
       "      <td>1.128516</td>\n",
       "      <td>0.0</td>\n",
       "      <td>4.71</td>\n",
       "      <td>5.69</td>\n",
       "      <td>6.55</td>\n",
       "      <td>10.23</td>\n",
       "    </tr>\n",
       "    <tr>\n",
       "      <th>y</th>\n",
       "      <td>26967.0</td>\n",
       "      <td>5.733569</td>\n",
       "      <td>1.166058</td>\n",
       "      <td>0.0</td>\n",
       "      <td>4.71</td>\n",
       "      <td>5.71</td>\n",
       "      <td>6.54</td>\n",
       "      <td>58.90</td>\n",
       "    </tr>\n",
       "    <tr>\n",
       "      <th>z</th>\n",
       "      <td>26967.0</td>\n",
       "      <td>3.538057</td>\n",
       "      <td>0.720624</td>\n",
       "      <td>0.0</td>\n",
       "      <td>2.90</td>\n",
       "      <td>3.52</td>\n",
       "      <td>4.04</td>\n",
       "      <td>31.80</td>\n",
       "    </tr>\n",
       "    <tr>\n",
       "      <th>price</th>\n",
       "      <td>26967.0</td>\n",
       "      <td>3939.518115</td>\n",
       "      <td>4024.864666</td>\n",
       "      <td>326.0</td>\n",
       "      <td>945.00</td>\n",
       "      <td>2375.00</td>\n",
       "      <td>5360.00</td>\n",
       "      <td>18818.00</td>\n",
       "    </tr>\n",
       "  </tbody>\n",
       "</table>\n",
       "</div>"
      ],
      "text/plain": [
       "         count         mean          std    min     25%      50%      75%   \n",
       "carat  26967.0     0.798375     0.477745    0.2    0.40     0.70     1.05  \\\n",
       "depth  26270.0    61.745147     1.412860   50.8   61.00    61.80    62.50   \n",
       "table  26967.0    57.456080     2.232068   49.0   56.00    57.00    59.00   \n",
       "x      26967.0     5.729854     1.128516    0.0    4.71     5.69     6.55   \n",
       "y      26967.0     5.733569     1.166058    0.0    4.71     5.71     6.54   \n",
       "z      26967.0     3.538057     0.720624    0.0    2.90     3.52     4.04   \n",
       "price  26967.0  3939.518115  4024.864666  326.0  945.00  2375.00  5360.00   \n",
       "\n",
       "            max  \n",
       "carat      4.50  \n",
       "depth     73.60  \n",
       "table     79.00  \n",
       "x         10.23  \n",
       "y         58.90  \n",
       "z         31.80  \n",
       "price  18818.00  "
      ]
     },
     "execution_count": 9,
     "metadata": {},
     "output_type": "execute_result"
    }
   ],
   "source": [
    "df.describe().T"
   ]
  },
  {
   "cell_type": "code",
   "execution_count": 10,
   "id": "4c3ed63b",
   "metadata": {
    "ExecuteTime": {
     "end_time": "2023-11-27T04:54:19.049397Z",
     "start_time": "2023-11-27T04:54:19.036637Z"
    }
   },
   "outputs": [
    {
     "data": {
      "text/plain": [
       "carat    1.116481\n",
       "depth   -0.028618\n",
       "table    0.765758\n",
       "x        0.387986\n",
       "y        3.850189\n",
       "z        2.568257\n",
       "price    1.618550\n",
       "dtype: float64"
      ]
     },
     "execution_count": 10,
     "metadata": {},
     "output_type": "execute_result"
    }
   ],
   "source": [
    "df.select_dtypes(include='number').skew()"
   ]
  },
  {
   "cell_type": "code",
   "execution_count": 3,
   "id": "20371d1f",
   "metadata": {
    "ExecuteTime": {
     "end_time": "2023-12-13T12:43:33.903836Z",
     "start_time": "2023-12-13T12:43:32.575806Z"
    },
    "scrolled": false
   },
   "outputs": [
    {
     "data": {
      "application/javascript": [
       "\n",
       "        if (window._pyforest_update_imports_cell) { window._pyforest_update_imports_cell('import matplotlib.pyplot as plt'); }\n",
       "    "
      ],
      "text/plain": [
       "<IPython.core.display.Javascript object>"
      ]
     },
     "metadata": {},
     "output_type": "display_data"
    },
    {
     "data": {
      "image/png": "[encoded data removed]",
      "text/plain": [
       "<Figure size 640x480 with 1 Axes>"
      ]
     },
     "metadata": {},
     "output_type": "display_data"
    },
    {
     "data": {
      "application/javascript": [
       "\n",
       "        if (window._pyforest_update_imports_cell) { window._pyforest_update_imports_cell('import matplotlib.pyplot as plt'); }\n",
       "    "
      ],
      "text/plain": [
       "<IPython.core.display.Javascript object>"
      ]
     },
     "metadata": {},
     "output_type": "display_data"
    },
    {
     "data": {
      "image/png": "[encoded data removed]",
      "text/plain": [
       "<Figure size 640x480 with 1 Axes>"
      ]
     },
     "metadata": {},
     "output_type": "display_data"
    },
    {
     "data": {
      "application/javascript": [
       "\n",
       "        if (window._pyforest_update_imports_cell) { window._pyforest_update_imports_cell('import matplotlib.pyplot as plt'); }\n",
       "    "
      ],
      "text/plain": [
       "<IPython.core.display.Javascript object>"
      ]
     },
     "metadata": {},
     "output_type": "display_data"
    },
    {
     "data": {
      "image/png": "[encoded data removed]",
      "text/plain": [
       "<Figure size 640x480 with 1 Axes>"
      ]
     },
     "metadata": {},
     "output_type": "display_data"
    },
    {
     "data": {
      "application/javascript": [
       "\n",
       "        if (window._pyforest_update_imports_cell) { window._pyforest_update_imports_cell('import matplotlib.pyplot as plt'); }\n",
       "    "
      ],
      "text/plain": [
       "<IPython.core.display.Javascript object>"
      ]
     },
     "metadata": {},
     "output_type": "display_data"
    },
    {
     "data": {
      "image/png": "[encoded data removed]",
      "text/plain": [
       "<Figure size 640x480 with 1 Axes>"
      ]
     },
     "metadata": {},
     "output_type": "display_data"
    },
    {
     "data": {
      "application/javascript": [
       "\n",
       "        if (window._pyforest_update_imports_cell) { window._pyforest_update_imports_cell('import matplotlib.pyplot as plt'); }\n",
       "    "
      ],
      "text/plain": [
       "<IPython.core.display.Javascript object>"
      ]
     },
     "metadata": {},
     "output_type": "display_data"
    },
    {
     "data": {
      "image/png": "[encoded data removed]",
      "text/plain": [
       "<Figure size 640x480 with 1 Axes>"
      ]
     },
     "metadata": {},
     "output_type": "display_data"
    },
    {
     "data": {
      "application/javascript": [
       "\n",
       "        if (window._pyforest_update_imports_cell) { window._pyforest_update_imports_cell('import matplotlib.pyplot as plt'); }\n",
       "    "
      ],
      "text/plain": [
       "<IPython.core.display.Javascript object>"
      ]
     },
     "metadata": {},
     "output_type": "display_data"
    },
    {
     "data": {
      "image/png": "[encoded data removed]",
      "text/plain": [
       "<Figure size 640x480 with 1 Axes>"
      ]
     },
     "metadata": {},
     "output_type": "display_data"
    },
    {
     "data": {
      "application/javascript": [
       "\n",
       "        if (window._pyforest_update_imports_cell) { window._pyforest_update_imports_cell('import matplotlib.pyplot as plt'); }\n",
       "    "
      ],
      "text/plain": [
       "<IPython.core.display.Javascript object>"
      ]
     },
     "metadata": {},
     "output_type": "display_data"
    },
    {
     "data": {
      "image/png": "[encoded data removed]",
      "text/plain": [
       "<Figure size 640x480 with 1 Axes>"
      ]
     },
     "metadata": {},
     "output_type": "display_data"
    },
    {
     "data": {
      "application/javascript": [
       "\n",
       "        if (window._pyforest_update_imports_cell) { window._pyforest_update_imports_cell('import matplotlib.pyplot as plt'); }\n",
       "    "
      ],
      "text/plain": [
       "<IPython.core.display.Javascript object>"
      ]
     },
     "metadata": {},
     "output_type": "display_data"
    },
    {
     "data": {
      "image/png": "[encoded data removed]",
      "text/plain": [
       "<Figure size 640x480 with 1 Axes>"
      ]
     },
     "metadata": {},
     "output_type": "display_data"
    }
   ],
   "source": [
    "for i in df.select_dtypes(include='number').columns:\n",
    "    sns.boxplot(data = df, x = i)\n",
    "    plt.show()"
   ]
  },
  {
   "cell_type": "code",
   "execution_count": 37,
   "id": "b7452d9d",
   "metadata": {
    "ExecuteTime": {
     "end_time": "2023-11-27T05:30:27.395328Z",
     "start_time": "2023-11-27T05:30:27.292877Z"
    }
   },
   "outputs": [],
   "source": [
    "# Boxcox Transformation\n",
    "\n",
    "from scipy import stats\n",
    "\n",
    "transformed_price, lmd = stats.boxcox(df['price'])"
   ]
  },
  {
   "cell_type": "code",
   "execution_count": 38,
   "id": "e653fb85",
   "metadata": {
    "ExecuteTime": {
     "end_time": "2023-11-27T05:30:30.032631Z",
     "start_time": "2023-11-27T05:30:28.043231Z"
    }
   },
   "outputs": [
    {
     "data": {
      "application/javascript": [
       "\n",
       "        if (window._pyforest_update_imports_cell) { window._pyforest_update_imports_cell('import pandas as pd\\nimport matplotlib.pyplot as plt'); }\n",
       "    "
      ],
      "text/plain": [
       "<IPython.core.display.Javascript object>"
      ]
     },
     "metadata": {},
     "output_type": "display_data"
    },
    {
     "data": {
      "application/javascript": [
       "\n",
       "        if (window._pyforest_update_imports_cell) { window._pyforest_update_imports_cell('import pandas as pd\\nimport matplotlib.pyplot as plt'); }\n",
       "    "
      ],
      "text/plain": [
       "<IPython.core.display.Javascript object>"
      ]
     },
     "metadata": {},
     "output_type": "display_data"
    },
    {
     "data": {
      "application/javascript": [
       "\n",
       "        if (window._pyforest_update_imports_cell) { window._pyforest_update_imports_cell('import pandas as pd\\nimport matplotlib.pyplot as plt'); }\n",
       "    "
      ],
      "text/plain": [
       "<IPython.core.display.Javascript object>"
      ]
     },
     "metadata": {},
     "output_type": "display_data"
    },
    {
     "data": {
      "text/plain": [
       "<Axes: ylabel='Density'>"
      ]
     },
     "execution_count": 38,
     "metadata": {},
     "output_type": "execute_result"
    },
    {
     "data": {
      "image/png": "[encoded data removed]",
      "text/plain": [
       "<Figure size 1500x600 with 2 Axes>"
      ]
     },
     "metadata": {},
     "output_type": "display_data"
    }
   ],
   "source": [
    "plt.figure(figsize=(15, 6))\n",
    "\n",
    "plt.subplot(1,2,1)\n",
    "sns.kdeplot(data = df, x = 'price')\n",
    "\n",
    "plt.subplot(1,2,2)\n",
    "sns.kdeplot(transformed_price)"
   ]
  },
  {
   "cell_type": "code",
   "execution_count": 18,
   "id": "00dbb592",
   "metadata": {
    "ExecuteTime": {
     "end_time": "2023-11-27T05:10:00.704475Z",
     "start_time": "2023-11-27T05:10:00.677040Z"
    }
   },
   "outputs": [
    {
     "data": {
      "text/plain": [
       "transformed_price    0.028703\n",
       "dtype: float64"
      ]
     },
     "execution_count": 18,
     "metadata": {},
     "output_type": "execute_result"
    }
   ],
   "source": [
    "pd.DataFrame(transformed_price, columns=['transformed_price']).skew()"
   ]
  },
  {
   "cell_type": "code",
   "execution_count": null,
   "id": "4b3351d2",
   "metadata": {},
   "outputs": [],
   "source": []
  },
  {
   "cell_type": "code",
   "execution_count": 22,
   "id": "a8983740",
   "metadata": {
    "ExecuteTime": {
     "end_time": "2023-11-27T05:18:57.983398Z",
     "start_time": "2023-11-27T05:18:57.959559Z"
    }
   },
   "outputs": [
    {
     "data": {
      "text/plain": [
       "carat      0.0\n",
       "cut        0.0\n",
       "color      0.0\n",
       "clarity    0.0\n",
       "depth      0.0\n",
       "table      0.0\n",
       "x          0.0\n",
       "y          0.0\n",
       "z          0.0\n",
       "price      0.0\n",
       "dtype: float64"
      ]
     },
     "execution_count": 22,
     "metadata": {},
     "output_type": "execute_result"
    }
   ],
   "source": [
    "df.isnull().sum() / len(df)"
   ]
  },
  {
   "cell_type": "code",
   "execution_count": 21,
   "id": "ecc6222a",
   "metadata": {
    "ExecuteTime": {
     "end_time": "2023-11-27T05:18:54.443616Z",
     "start_time": "2023-11-27T05:18:54.421821Z"
    }
   },
   "outputs": [],
   "source": [
    "df.dropna(inplace=True)"
   ]
  },
  {
   "cell_type": "code",
   "execution_count": 27,
   "id": "b3b08b2e",
   "metadata": {
    "ExecuteTime": {
     "end_time": "2023-11-27T05:22:46.953775Z",
     "start_time": "2023-11-27T05:22:46.933374Z"
    }
   },
   "outputs": [
    {
     "data": {
      "text/plain": [
       "9"
      ]
     },
     "execution_count": 27,
     "metadata": {},
     "output_type": "execute_result"
    }
   ],
   "source": [
    "sum(df['z'] == 0)"
   ]
  },
  {
   "cell_type": "code",
   "execution_count": 31,
   "id": "dcc7de9b",
   "metadata": {
    "ExecuteTime": {
     "end_time": "2023-11-27T05:25:17.618455Z",
     "start_time": "2023-11-27T05:25:17.583108Z"
    }
   },
   "outputs": [],
   "source": [
    "df['x'].replace(0, np.nan, inplace=True)\n",
    "df['y'].replace(0, np.nan, inplace=True)\n",
    "df['z'].replace(0, np.nan, inplace=True)\n",
    "\n",
    "df.dropna(inplace=True)"
   ]
  },
  {
   "cell_type": "code",
   "execution_count": 32,
   "id": "e777111c",
   "metadata": {
    "ExecuteTime": {
     "end_time": "2023-11-27T05:27:37.713699Z",
     "start_time": "2023-11-27T05:27:37.691743Z"
    }
   },
   "outputs": [
    {
     "data": {
      "text/plain": [
       "25795    58.90\n",
       "12500    10.16\n",
       "20505    10.10\n",
       "3025      9.94\n",
       "8156      9.94\n",
       "         ...  \n",
       "12748     3.77\n",
       "20093     3.77\n",
       "19108     3.72\n",
       "13051     3.71\n",
       "5788      3.71\n",
       "Name: y, Length: 26261, dtype: float64"
      ]
     },
     "execution_count": 32,
     "metadata": {},
     "output_type": "execute_result"
    }
   ],
   "source": [
    "df['y'].sort_values(ascending=False)"
   ]
  },
  {
   "cell_type": "code",
   "execution_count": 33,
   "id": "92e5f1ad",
   "metadata": {
    "ExecuteTime": {
     "end_time": "2023-11-27T05:28:28.843471Z",
     "start_time": "2023-11-27T05:28:28.815777Z"
    }
   },
   "outputs": [
    {
     "data": {
      "text/plain": [
       "25795    8.06\n",
       "12500    6.72\n",
       "8156     6.31\n",
       "12758    6.27\n",
       "3025     6.24\n",
       "         ... \n",
       "12748    2.26\n",
       "25498    2.24\n",
       "26819    2.06\n",
       "4828     1.53\n",
       "21604    1.07\n",
       "Name: z, Length: 26261, dtype: float64"
      ]
     },
     "execution_count": 33,
     "metadata": {},
     "output_type": "execute_result"
    }
   ],
   "source": [
    "df['z'].sort_values(ascending=False)"
   ]
  },
  {
   "cell_type": "code",
   "execution_count": 34,
   "id": "4787691f",
   "metadata": {
    "ExecuteTime": {
     "end_time": "2023-11-27T05:29:19.407836Z",
     "start_time": "2023-11-27T05:29:19.386399Z"
    }
   },
   "outputs": [],
   "source": [
    "df['y'].replace(58.9, 10.16, inplace=True)\n",
    "df['z'].replace(8.06, 6.72, inplace=True)"
   ]
  },
  {
   "cell_type": "code",
   "execution_count": null,
   "id": "d933afca",
   "metadata": {},
   "outputs": [],
   "source": []
  },
  {
   "cell_type": "code",
   "execution_count": 39,
   "id": "122c29e3",
   "metadata": {
    "ExecuteTime": {
     "end_time": "2023-11-27T05:30:34.328503Z",
     "start_time": "2023-11-27T05:30:34.262990Z"
    }
   },
   "outputs": [
    {
     "data": {
      "text/html": [
       "<div>\n",
       "<style scoped>\n",
       "    .dataframe tbody tr th:only-of-type {\n",
       "        vertical-align: middle;\n",
       "    }\n",
       "\n",
       "    .dataframe tbody tr th {\n",
       "        vertical-align: top;\n",
       "    }\n",
       "\n",
       "    .dataframe thead th {\n",
       "        text-align: right;\n",
       "    }\n",
       "</style>\n",
       "<table border=\"1\" class=\"dataframe\">\n",
       "  <thead>\n",
       "    <tr style=\"text-align: right;\">\n",
       "      <th></th>\n",
       "      <th>carat</th>\n",
       "      <th>cut</th>\n",
       "      <th>color</th>\n",
       "      <th>clarity</th>\n",
       "      <th>depth</th>\n",
       "      <th>table</th>\n",
       "      <th>x</th>\n",
       "      <th>y</th>\n",
       "      <th>z</th>\n",
       "      <th>price</th>\n",
       "      <th>transformed_price</th>\n",
       "    </tr>\n",
       "  </thead>\n",
       "  <tbody>\n",
       "    <tr>\n",
       "      <th>0</th>\n",
       "      <td>0.30</td>\n",
       "      <td>Ideal</td>\n",
       "      <td>E</td>\n",
       "      <td>SI1</td>\n",
       "      <td>62.1</td>\n",
       "      <td>58.0</td>\n",
       "      <td>4.27</td>\n",
       "      <td>4.29</td>\n",
       "      <td>2.66</td>\n",
       "      <td>499</td>\n",
       "      <td>4.976995</td>\n",
       "    </tr>\n",
       "    <tr>\n",
       "      <th>1</th>\n",
       "      <td>0.33</td>\n",
       "      <td>Premium</td>\n",
       "      <td>G</td>\n",
       "      <td>IF</td>\n",
       "      <td>60.8</td>\n",
       "      <td>58.0</td>\n",
       "      <td>4.42</td>\n",
       "      <td>4.46</td>\n",
       "      <td>2.70</td>\n",
       "      <td>984</td>\n",
       "      <td>5.394522</td>\n",
       "    </tr>\n",
       "    <tr>\n",
       "      <th>2</th>\n",
       "      <td>0.90</td>\n",
       "      <td>Very Good</td>\n",
       "      <td>E</td>\n",
       "      <td>VVS2</td>\n",
       "      <td>62.2</td>\n",
       "      <td>60.0</td>\n",
       "      <td>6.04</td>\n",
       "      <td>6.12</td>\n",
       "      <td>3.78</td>\n",
       "      <td>6289</td>\n",
       "      <td>6.433435</td>\n",
       "    </tr>\n",
       "    <tr>\n",
       "      <th>3</th>\n",
       "      <td>0.42</td>\n",
       "      <td>Ideal</td>\n",
       "      <td>F</td>\n",
       "      <td>VS1</td>\n",
       "      <td>61.6</td>\n",
       "      <td>56.0</td>\n",
       "      <td>4.82</td>\n",
       "      <td>4.80</td>\n",
       "      <td>2.96</td>\n",
       "      <td>1082</td>\n",
       "      <td>5.451242</td>\n",
       "    </tr>\n",
       "    <tr>\n",
       "      <th>4</th>\n",
       "      <td>0.31</td>\n",
       "      <td>Ideal</td>\n",
       "      <td>F</td>\n",
       "      <td>VVS1</td>\n",
       "      <td>60.4</td>\n",
       "      <td>59.0</td>\n",
       "      <td>4.35</td>\n",
       "      <td>4.43</td>\n",
       "      <td>2.65</td>\n",
       "      <td>779</td>\n",
       "      <td>5.253242</td>\n",
       "    </tr>\n",
       "  </tbody>\n",
       "</table>\n",
       "</div>"
      ],
      "text/plain": [
       "   carat        cut color clarity  depth  table     x     y     z  price   \n",
       "0   0.30      Ideal     E     SI1   62.1   58.0  4.27  4.29  2.66    499  \\\n",
       "1   0.33    Premium     G      IF   60.8   58.0  4.42  4.46  2.70    984   \n",
       "2   0.90  Very Good     E    VVS2   62.2   60.0  6.04  6.12  3.78   6289   \n",
       "3   0.42      Ideal     F     VS1   61.6   56.0  4.82  4.80  2.96   1082   \n",
       "4   0.31      Ideal     F    VVS1   60.4   59.0  4.35  4.43  2.65    779   \n",
       "\n",
       "   transformed_price  \n",
       "0           4.976995  \n",
       "1           5.394522  \n",
       "2           6.433435  \n",
       "3           5.451242  \n",
       "4           5.253242  "
      ]
     },
     "execution_count": 39,
     "metadata": {},
     "output_type": "execute_result"
    }
   ],
   "source": [
    "df['transformed_price'] = transformed_price\n",
    "df.head()"
   ]
  },
  {
   "cell_type": "code",
   "execution_count": 41,
   "id": "b0bbeb06",
   "metadata": {
    "ExecuteTime": {
     "end_time": "2023-11-27T05:32:03.520005Z",
     "start_time": "2023-11-27T05:32:03.490474Z"
    }
   },
   "outputs": [],
   "source": [
    "dummies = pd.get_dummies(data = df, drop_first=True)"
   ]
  },
  {
   "cell_type": "code",
   "execution_count": 48,
   "id": "56822c5a",
   "metadata": {
    "ExecuteTime": {
     "end_time": "2023-11-27T05:39:37.030335Z",
     "start_time": "2023-11-27T05:39:37.013095Z"
    }
   },
   "outputs": [],
   "source": [
    "X = dummies.drop(['price', 'transformed_price'], axis=1)\n",
    "y = dummies['transformed_price']"
   ]
  },
  {
   "cell_type": "code",
   "execution_count": 49,
   "id": "93300558",
   "metadata": {
    "ExecuteTime": {
     "end_time": "2023-11-27T05:39:37.356107Z",
     "start_time": "2023-11-27T05:39:37.313346Z"
    }
   },
   "outputs": [],
   "source": [
    "import statsmodels.api as sm\n",
    "\n",
    "X = sm.add_constant(X)\n",
    "\n",
    "from sklearn.model_selection import train_test_split\n",
    "\n",
    "X_train, X_test, y_train, y_test = train_test_split(X, y, test_size=0.3, random_state=42)"
   ]
  },
  {
   "cell_type": "code",
   "execution_count": 50,
   "id": "7e1b01f3",
   "metadata": {
    "ExecuteTime": {
     "end_time": "2023-11-27T05:39:37.790346Z",
     "start_time": "2023-11-27T05:39:37.607520Z"
    }
   },
   "outputs": [
    {
     "data": {
      "text/html": [
       "<table class=\"simpletable\">\n",
       "<caption>OLS Regression Results</caption>\n",
       "<tr>\n",
       "  <th>Dep. Variable:</th>    <td>transformed_price</td> <th>  R-squared:         </th>  <td>   0.982</td> \n",
       "</tr>\n",
       "<tr>\n",
       "  <th>Model:</th>                   <td>OLS</td>        <th>  Adj. R-squared:    </th>  <td>   0.982</td> \n",
       "</tr>\n",
       "<tr>\n",
       "  <th>Method:</th>             <td>Least Squares</td>   <th>  F-statistic:       </th>  <td>4.441e+04</td>\n",
       "</tr>\n",
       "<tr>\n",
       "  <th>Date:</th>             <td>Mon, 27 Nov 2023</td>  <th>  Prob (F-statistic):</th>   <td>  0.00</td>  \n",
       "</tr>\n",
       "<tr>\n",
       "  <th>Time:</th>                 <td>11:09:37</td>      <th>  Log-Likelihood:    </th>  <td>  21323.</td> \n",
       "</tr>\n",
       "<tr>\n",
       "  <th>No. Observations:</th>      <td> 18382</td>       <th>  AIC:               </th> <td>-4.260e+04</td>\n",
       "</tr>\n",
       "<tr>\n",
       "  <th>Df Residuals:</th>          <td> 18358</td>       <th>  BIC:               </th> <td>-4.241e+04</td>\n",
       "</tr>\n",
       "<tr>\n",
       "  <th>Df Model:</th>              <td>    23</td>       <th>                     </th>      <td> </td>    \n",
       "</tr>\n",
       "<tr>\n",
       "  <th>Covariance Type:</th>      <td>nonrobust</td>     <th>                     </th>      <td> </td>    \n",
       "</tr>\n",
       "</table>\n",
       "<table class=\"simpletable\">\n",
       "<tr>\n",
       "        <td></td>           <th>coef</th>     <th>std err</th>      <th>t</th>      <th>P>|t|</th>  <th>[0.025</th>    <th>0.975]</th>  \n",
       "</tr>\n",
       "<tr>\n",
       "  <th>const</th>         <td>   -0.3781</td> <td>    0.097</td> <td>   -3.886</td> <td> 0.000</td> <td>   -0.569</td> <td>   -0.187</td>\n",
       "</tr>\n",
       "<tr>\n",
       "  <th>carat</th>         <td>   -0.7368</td> <td>    0.006</td> <td> -123.364</td> <td> 0.000</td> <td>   -0.749</td> <td>   -0.725</td>\n",
       "</tr>\n",
       "<tr>\n",
       "  <th>depth</th>         <td>    0.0210</td> <td>    0.001</td> <td>   14.220</td> <td> 0.000</td> <td>    0.018</td> <td>    0.024</td>\n",
       "</tr>\n",
       "<tr>\n",
       "  <th>table</th>         <td>    0.0060</td> <td>    0.000</td> <td>   17.655</td> <td> 0.000</td> <td>    0.005</td> <td>    0.007</td>\n",
       "</tr>\n",
       "<tr>\n",
       "  <th>x</th>             <td>    0.5281</td> <td>    0.012</td> <td>   44.865</td> <td> 0.000</td> <td>    0.505</td> <td>    0.551</td>\n",
       "</tr>\n",
       "<tr>\n",
       "  <th>y</th>             <td>    0.1378</td> <td>    0.013</td> <td>   10.793</td> <td> 0.000</td> <td>    0.113</td> <td>    0.163</td>\n",
       "</tr>\n",
       "<tr>\n",
       "  <th>z</th>             <td>    0.3014</td> <td>    0.023</td> <td>   13.034</td> <td> 0.000</td> <td>    0.256</td> <td>    0.347</td>\n",
       "</tr>\n",
       "<tr>\n",
       "  <th>cut_Good</th>      <td>    0.0409</td> <td>    0.004</td> <td>   10.401</td> <td> 0.000</td> <td>    0.033</td> <td>    0.049</td>\n",
       "</tr>\n",
       "<tr>\n",
       "  <th>cut_Ideal</th>     <td>    0.0800</td> <td>    0.004</td> <td>   20.493</td> <td> 0.000</td> <td>    0.072</td> <td>    0.088</td>\n",
       "</tr>\n",
       "<tr>\n",
       "  <th>cut_Premium</th>   <td>    0.0605</td> <td>    0.004</td> <td>   16.294</td> <td> 0.000</td> <td>    0.053</td> <td>    0.068</td>\n",
       "</tr>\n",
       "<tr>\n",
       "  <th>cut_Very Good</th> <td>    0.0564</td> <td>    0.004</td> <td>   14.864</td> <td> 0.000</td> <td>    0.049</td> <td>    0.064</td>\n",
       "</tr>\n",
       "<tr>\n",
       "  <th>color_E</th>       <td>   -0.0319</td> <td>    0.002</td> <td>  -15.530</td> <td> 0.000</td> <td>   -0.036</td> <td>   -0.028</td>\n",
       "</tr>\n",
       "<tr>\n",
       "  <th>color_F</th>       <td>   -0.0553</td> <td>    0.002</td> <td>  -26.490</td> <td> 0.000</td> <td>   -0.059</td> <td>   -0.051</td>\n",
       "</tr>\n",
       "<tr>\n",
       "  <th>color_G</th>       <td>   -0.0947</td> <td>    0.002</td> <td>  -46.628</td> <td> 0.000</td> <td>   -0.099</td> <td>   -0.091</td>\n",
       "</tr>\n",
       "<tr>\n",
       "  <th>color_H</th>       <td>   -0.1458</td> <td>    0.002</td> <td>  -67.049</td> <td> 0.000</td> <td>   -0.150</td> <td>   -0.141</td>\n",
       "</tr>\n",
       "<tr>\n",
       "  <th>color_I</th>       <td>   -0.2127</td> <td>    0.002</td> <td>  -87.679</td> <td> 0.000</td> <td>   -0.217</td> <td>   -0.208</td>\n",
       "</tr>\n",
       "<tr>\n",
       "  <th>color_J</th>       <td>   -0.2880</td> <td>    0.003</td> <td>  -96.683</td> <td> 0.000</td> <td>   -0.294</td> <td>   -0.282</td>\n",
       "</tr>\n",
       "<tr>\n",
       "  <th>clarity_IF</th>    <td>    0.6022</td> <td>    0.006</td> <td>  102.153</td> <td> 0.000</td> <td>    0.591</td> <td>    0.614</td>\n",
       "</tr>\n",
       "<tr>\n",
       "  <th>clarity_SI1</th>   <td>    0.3073</td> <td>    0.005</td> <td>   61.058</td> <td> 0.000</td> <td>    0.297</td> <td>    0.317</td>\n",
       "</tr>\n",
       "<tr>\n",
       "  <th>clarity_SI2</th>   <td>    0.2145</td> <td>    0.005</td> <td>   42.428</td> <td> 0.000</td> <td>    0.205</td> <td>    0.224</td>\n",
       "</tr>\n",
       "<tr>\n",
       "  <th>clarity_VS1</th>   <td>    0.4262</td> <td>    0.005</td> <td>   83.043</td> <td> 0.000</td> <td>    0.416</td> <td>    0.436</td>\n",
       "</tr>\n",
       "<tr>\n",
       "  <th>clarity_VS2</th>   <td>    0.3883</td> <td>    0.005</td> <td>   76.738</td> <td> 0.000</td> <td>    0.378</td> <td>    0.398</td>\n",
       "</tr>\n",
       "<tr>\n",
       "  <th>clarity_VVS1</th>  <td>    0.5439</td> <td>    0.005</td> <td>   99.994</td> <td> 0.000</td> <td>    0.533</td> <td>    0.555</td>\n",
       "</tr>\n",
       "<tr>\n",
       "  <th>clarity_VVS2</th>  <td>    0.5018</td> <td>    0.005</td> <td>   94.992</td> <td> 0.000</td> <td>    0.491</td> <td>    0.512</td>\n",
       "</tr>\n",
       "</table>\n",
       "<table class=\"simpletable\">\n",
       "<tr>\n",
       "  <th>Omnibus:</th>       <td>1041.002</td> <th>  Durbin-Watson:     </th> <td>   2.009</td>\n",
       "</tr>\n",
       "<tr>\n",
       "  <th>Prob(Omnibus):</th>  <td> 0.000</td>  <th>  Jarque-Bera (JB):  </th> <td>4413.269</td>\n",
       "</tr>\n",
       "<tr>\n",
       "  <th>Skew:</th>           <td> 0.029</td>  <th>  Prob(JB):          </th> <td>    0.00</td>\n",
       "</tr>\n",
       "<tr>\n",
       "  <th>Kurtosis:</th>       <td> 5.400</td>  <th>  Cond. No.          </th> <td>1.51e+04</td>\n",
       "</tr>\n",
       "</table><br/><br/>Notes:<br/>[1] Standard Errors assume that the covariance matrix of the errors is correctly specified.<br/>[2] The condition number is large, 1.51e+04. This might indicate that there are<br/>strong multicollinearity or other numerical problems."
      ],
      "text/latex": [
       "\\begin{center}\n",
       "\\begin{tabular}{lclc}\n",
       "\\toprule\n",
       "\\textbf{Dep. Variable:}    & transformed\\_price & \\textbf{  R-squared:         } &     0.982   \\\\\n",
       "\\textbf{Model:}            &        OLS         & \\textbf{  Adj. R-squared:    } &     0.982   \\\\\n",
       "\\textbf{Method:}           &   Least Squares    & \\textbf{  F-statistic:       } & 4.441e+04   \\\\\n",
       "\\textbf{Date:}             &  Mon, 27 Nov 2023  & \\textbf{  Prob (F-statistic):} &     0.00    \\\\\n",
       "\\textbf{Time:}             &      11:09:37      & \\textbf{  Log-Likelihood:    } &    21323.   \\\\\n",
       "\\textbf{No. Observations:} &        18382       & \\textbf{  AIC:               } & -4.260e+04  \\\\\n",
       "\\textbf{Df Residuals:}     &        18358       & \\textbf{  BIC:               } & -4.241e+04  \\\\\n",
       "\\textbf{Df Model:}         &           23       & \\textbf{                     } &             \\\\\n",
       "\\textbf{Covariance Type:}  &     nonrobust      & \\textbf{                     } &             \\\\\n",
       "\\bottomrule\n",
       "\\end{tabular}\n",
       "\\begin{tabular}{lcccccc}\n",
       "                        & \\textbf{coef} & \\textbf{std err} & \\textbf{t} & \\textbf{P$> |$t$|$} & \\textbf{[0.025} & \\textbf{0.975]}  \\\\\n",
       "\\midrule\n",
       "\\textbf{const}          &      -0.3781  &        0.097     &    -3.886  &         0.000        &       -0.569    &       -0.187     \\\\\n",
       "\\textbf{carat}          &      -0.7368  &        0.006     &  -123.364  &         0.000        &       -0.749    &       -0.725     \\\\\n",
       "\\textbf{depth}          &       0.0210  &        0.001     &    14.220  &         0.000        &        0.018    &        0.024     \\\\\n",
       "\\textbf{table}          &       0.0060  &        0.000     &    17.655  &         0.000        &        0.005    &        0.007     \\\\\n",
       "\\textbf{x}              &       0.5281  &        0.012     &    44.865  &         0.000        &        0.505    &        0.551     \\\\\n",
       "\\textbf{y}              &       0.1378  &        0.013     &    10.793  &         0.000        &        0.113    &        0.163     \\\\\n",
       "\\textbf{z}              &       0.3014  &        0.023     &    13.034  &         0.000        &        0.256    &        0.347     \\\\\n",
       "\\textbf{cut\\_Good}      &       0.0409  &        0.004     &    10.401  &         0.000        &        0.033    &        0.049     \\\\\n",
       "\\textbf{cut\\_Ideal}     &       0.0800  &        0.004     &    20.493  &         0.000        &        0.072    &        0.088     \\\\\n",
       "\\textbf{cut\\_Premium}   &       0.0605  &        0.004     &    16.294  &         0.000        &        0.053    &        0.068     \\\\\n",
       "\\textbf{cut\\_Very Good} &       0.0564  &        0.004     &    14.864  &         0.000        &        0.049    &        0.064     \\\\\n",
       "\\textbf{color\\_E}       &      -0.0319  &        0.002     &   -15.530  &         0.000        &       -0.036    &       -0.028     \\\\\n",
       "\\textbf{color\\_F}       &      -0.0553  &        0.002     &   -26.490  &         0.000        &       -0.059    &       -0.051     \\\\\n",
       "\\textbf{color\\_G}       &      -0.0947  &        0.002     &   -46.628  &         0.000        &       -0.099    &       -0.091     \\\\\n",
       "\\textbf{color\\_H}       &      -0.1458  &        0.002     &   -67.049  &         0.000        &       -0.150    &       -0.141     \\\\\n",
       "\\textbf{color\\_I}       &      -0.2127  &        0.002     &   -87.679  &         0.000        &       -0.217    &       -0.208     \\\\\n",
       "\\textbf{color\\_J}       &      -0.2880  &        0.003     &   -96.683  &         0.000        &       -0.294    &       -0.282     \\\\\n",
       "\\textbf{clarity\\_IF}    &       0.6022  &        0.006     &   102.153  &         0.000        &        0.591    &        0.614     \\\\\n",
       "\\textbf{clarity\\_SI1}   &       0.3073  &        0.005     &    61.058  &         0.000        &        0.297    &        0.317     \\\\\n",
       "\\textbf{clarity\\_SI2}   &       0.2145  &        0.005     &    42.428  &         0.000        &        0.205    &        0.224     \\\\\n",
       "\\textbf{clarity\\_VS1}   &       0.4262  &        0.005     &    83.043  &         0.000        &        0.416    &        0.436     \\\\\n",
       "\\textbf{clarity\\_VS2}   &       0.3883  &        0.005     &    76.738  &         0.000        &        0.378    &        0.398     \\\\\n",
       "\\textbf{clarity\\_VVS1}  &       0.5439  &        0.005     &    99.994  &         0.000        &        0.533    &        0.555     \\\\\n",
       "\\textbf{clarity\\_VVS2}  &       0.5018  &        0.005     &    94.992  &         0.000        &        0.491    &        0.512     \\\\\n",
       "\\bottomrule\n",
       "\\end{tabular}\n",
       "\\begin{tabular}{lclc}\n",
       "\\textbf{Omnibus:}       & 1041.002 & \\textbf{  Durbin-Watson:     } &    2.009  \\\\\n",
       "\\textbf{Prob(Omnibus):} &   0.000  & \\textbf{  Jarque-Bera (JB):  } & 4413.269  \\\\\n",
       "\\textbf{Skew:}          &   0.029  & \\textbf{  Prob(JB):          } &     0.00  \\\\\n",
       "\\textbf{Kurtosis:}      &   5.400  & \\textbf{  Cond. No.          } & 1.51e+04  \\\\\n",
       "\\bottomrule\n",
       "\\end{tabular}\n",
       "%\\caption{OLS Regression Results}\n",
       "\\end{center}\n",
       "\n",
       "Notes: \\newline\n",
       " [1] Standard Errors assume that the covariance matrix of the errors is correctly specified. \\newline\n",
       " [2] The condition number is large, 1.51e+04. This might indicate that there are \\newline\n",
       " strong multicollinearity or other numerical problems."
      ],
      "text/plain": [
       "<class 'statsmodels.iolib.summary.Summary'>\n",
       "\"\"\"\n",
       "                            OLS Regression Results                            \n",
       "==============================================================================\n",
       "Dep. Variable:      transformed_price   R-squared:                       0.982\n",
       "Model:                            OLS   Adj. R-squared:                  0.982\n",
       "Method:                 Least Squares   F-statistic:                 4.441e+04\n",
       "Date:                Mon, 27 Nov 2023   Prob (F-statistic):               0.00\n",
       "Time:                        11:09:37   Log-Likelihood:                 21323.\n",
       "No. Observations:               18382   AIC:                        -4.260e+04\n",
       "Df Residuals:                   18358   BIC:                        -4.241e+04\n",
       "Df Model:                          23                                         \n",
       "Covariance Type:            nonrobust                                         \n",
       "=================================================================================\n",
       "                    coef    std err          t      P>|t|      [0.025      0.975]\n",
       "---------------------------------------------------------------------------------\n",
       "const            -0.3781      0.097     -3.886      0.000      -0.569      -0.187\n",
       "carat            -0.7368      0.006   -123.364      0.000      -0.749      -0.725\n",
       "depth             0.0210      0.001     14.220      0.000       0.018       0.024\n",
       "table             0.0060      0.000     17.655      0.000       0.005       0.007\n",
       "x                 0.5281      0.012     44.865      0.000       0.505       0.551\n",
       "y                 0.1378      0.013     10.793      0.000       0.113       0.163\n",
       "z                 0.3014      0.023     13.034      0.000       0.256       0.347\n",
       "cut_Good          0.0409      0.004     10.401      0.000       0.033       0.049\n",
       "cut_Ideal         0.0800      0.004     20.493      0.000       0.072       0.088\n",
       "cut_Premium       0.0605      0.004     16.294      0.000       0.053       0.068\n",
       "cut_Very Good     0.0564      0.004     14.864      0.000       0.049       0.064\n",
       "color_E          -0.0319      0.002    -15.530      0.000      -0.036      -0.028\n",
       "color_F          -0.0553      0.002    -26.490      0.000      -0.059      -0.051\n",
       "color_G          -0.0947      0.002    -46.628      0.000      -0.099      -0.091\n",
       "color_H          -0.1458      0.002    -67.049      0.000      -0.150      -0.141\n",
       "color_I          -0.2127      0.002    -87.679      0.000      -0.217      -0.208\n",
       "color_J          -0.2880      0.003    -96.683      0.000      -0.294      -0.282\n",
       "clarity_IF        0.6022      0.006    102.153      0.000       0.591       0.614\n",
       "clarity_SI1       0.3073      0.005     61.058      0.000       0.297       0.317\n",
       "clarity_SI2       0.2145      0.005     42.428      0.000       0.205       0.224\n",
       "clarity_VS1       0.4262      0.005     83.043      0.000       0.416       0.436\n",
       "clarity_VS2       0.3883      0.005     76.738      0.000       0.378       0.398\n",
       "clarity_VVS1      0.5439      0.005     99.994      0.000       0.533       0.555\n",
       "clarity_VVS2      0.5018      0.005     94.992      0.000       0.491       0.512\n",
       "==============================================================================\n",
       "Omnibus:                     1041.002   Durbin-Watson:                   2.009\n",
       "Prob(Omnibus):                  0.000   Jarque-Bera (JB):             4413.269\n",
       "Skew:                           0.029   Prob(JB):                         0.00\n",
       "Kurtosis:                       5.400   Cond. No.                     1.51e+04\n",
       "==============================================================================\n",
       "\n",
       "Notes:\n",
       "[1] Standard Errors assume that the covariance matrix of the errors is correctly specified.\n",
       "[2] The condition number is large, 1.51e+04. This might indicate that there are\n",
       "strong multicollinearity or other numerical problems.\n",
       "\"\"\""
      ]
     },
     "execution_count": 50,
     "metadata": {},
     "output_type": "execute_result"
    }
   ],
   "source": [
    "model = sm.OLS(y_train, X_train.astype(float)).fit()\n",
    "model.summary()"
   ]
  },
  {
   "cell_type": "code",
   "execution_count": 51,
   "id": "ad41ec76",
   "metadata": {
    "ExecuteTime": {
     "end_time": "2023-11-27T05:41:44.359110Z",
     "start_time": "2023-11-27T05:41:44.330806Z"
    }
   },
   "outputs": [],
   "source": [
    "from sklearn import metrics\n",
    "\n",
    "pred = model.predict(X_test)"
   ]
  },
  {
   "cell_type": "code",
   "execution_count": 52,
   "id": "9f35a754",
   "metadata": {
    "ExecuteTime": {
     "end_time": "2023-11-27T05:42:10.751007Z",
     "start_time": "2023-11-27T05:42:10.728076Z"
    }
   },
   "outputs": [
    {
     "data": {
      "text/plain": [
       "0.0777542162540772"
      ]
     },
     "execution_count": 52,
     "metadata": {},
     "output_type": "execute_result"
    }
   ],
   "source": [
    "metrics.mean_squared_error(y_test, pred) ** 0.5"
   ]
  },
  {
   "cell_type": "code",
   "execution_count": null,
   "id": "b2174380",
   "metadata": {},
   "outputs": [],
   "source": [
    "# compare it against the maximum error\n",
    "# max_error = when the prediction is average of y"
   ]
  },
  {
   "cell_type": "code",
   "execution_count": 57,
   "id": "6a1d2dcd",
   "metadata": {
    "ExecuteTime": {
     "end_time": "2023-11-27T05:44:26.954992Z",
     "start_time": "2023-11-27T05:44:26.936104Z"
    }
   },
   "outputs": [],
   "source": [
    "rmse = pd.DataFrame(y_test)"
   ]
  },
  {
   "cell_type": "code",
   "execution_count": 58,
   "id": "36fb02ed",
   "metadata": {
    "ExecuteTime": {
     "end_time": "2023-11-27T05:44:56.261146Z",
     "start_time": "2023-11-27T05:44:56.232169Z"
    }
   },
   "outputs": [
    {
     "data": {
      "text/html": [
       "<div>\n",
       "<style scoped>\n",
       "    .dataframe tbody tr th:only-of-type {\n",
       "        vertical-align: middle;\n",
       "    }\n",
       "\n",
       "    .dataframe tbody tr th {\n",
       "        vertical-align: top;\n",
       "    }\n",
       "\n",
       "    .dataframe thead th {\n",
       "        text-align: right;\n",
       "    }\n",
       "</style>\n",
       "<table border=\"1\" class=\"dataframe\">\n",
       "  <thead>\n",
       "    <tr style=\"text-align: right;\">\n",
       "      <th></th>\n",
       "      <th>transformed_price</th>\n",
       "      <th>pred</th>\n",
       "    </tr>\n",
       "  </thead>\n",
       "  <tbody>\n",
       "    <tr>\n",
       "      <th>23420</th>\n",
       "      <td>6.312483</td>\n",
       "      <td>5.886714</td>\n",
       "    </tr>\n",
       "    <tr>\n",
       "      <th>18892</th>\n",
       "      <td>5.862258</td>\n",
       "      <td>5.886714</td>\n",
       "    </tr>\n",
       "    <tr>\n",
       "      <th>15627</th>\n",
       "      <td>5.248524</td>\n",
       "      <td>5.886714</td>\n",
       "    </tr>\n",
       "    <tr>\n",
       "      <th>20776</th>\n",
       "      <td>5.526242</td>\n",
       "      <td>5.886714</td>\n",
       "    </tr>\n",
       "    <tr>\n",
       "      <th>14188</th>\n",
       "      <td>6.213928</td>\n",
       "      <td>5.886714</td>\n",
       "    </tr>\n",
       "    <tr>\n",
       "      <th>...</th>\n",
       "      <td>...</td>\n",
       "      <td>...</td>\n",
       "    </tr>\n",
       "    <tr>\n",
       "      <th>23640</th>\n",
       "      <td>6.385922</td>\n",
       "      <td>5.886714</td>\n",
       "    </tr>\n",
       "    <tr>\n",
       "      <th>25203</th>\n",
       "      <td>5.500180</td>\n",
       "      <td>5.886714</td>\n",
       "    </tr>\n",
       "    <tr>\n",
       "      <th>7496</th>\n",
       "      <td>5.014913</td>\n",
       "      <td>5.886714</td>\n",
       "    </tr>\n",
       "    <tr>\n",
       "      <th>9670</th>\n",
       "      <td>6.157933</td>\n",
       "      <td>5.886714</td>\n",
       "    </tr>\n",
       "    <tr>\n",
       "      <th>12389</th>\n",
       "      <td>5.249313</td>\n",
       "      <td>5.886714</td>\n",
       "    </tr>\n",
       "  </tbody>\n",
       "</table>\n",
       "<p>7879 rows × 2 columns</p>\n",
       "</div>"
      ],
      "text/plain": [
       "       transformed_price      pred\n",
       "23420           6.312483  5.886714\n",
       "18892           5.862258  5.886714\n",
       "15627           5.248524  5.886714\n",
       "20776           5.526242  5.886714\n",
       "14188           6.213928  5.886714\n",
       "...                  ...       ...\n",
       "23640           6.385922  5.886714\n",
       "25203           5.500180  5.886714\n",
       "7496            5.014913  5.886714\n",
       "9670            6.157933  5.886714\n",
       "12389           5.249313  5.886714\n",
       "\n",
       "[7879 rows x 2 columns]"
      ]
     },
     "execution_count": 58,
     "metadata": {},
     "output_type": "execute_result"
    }
   ],
   "source": [
    "rmse['pred'] = y_train.mean()\n",
    "rmse"
   ]
  },
  {
   "cell_type": "code",
   "execution_count": 59,
   "id": "dbf91318",
   "metadata": {
    "ExecuteTime": {
     "end_time": "2023-11-27T05:45:29.709119Z",
     "start_time": "2023-11-27T05:45:29.693969Z"
    }
   },
   "outputs": [
    {
     "data": {
      "text/plain": [
       "0.5696236795138544"
      ]
     },
     "execution_count": 59,
     "metadata": {},
     "output_type": "execute_result"
    }
   ],
   "source": [
    "metrics.mean_squared_error(rmse['transformed_price'], \n",
    "                          rmse['pred']) ** 0.5"
   ]
  },
  {
   "cell_type": "code",
   "execution_count": 60,
   "id": "56387c6a",
   "metadata": {
    "ExecuteTime": {
     "end_time": "2023-11-27T05:45:49.658996Z",
     "start_time": "2023-11-27T05:45:49.647717Z"
    }
   },
   "outputs": [
    {
     "data": {
      "text/plain": [
       "0.13650102523904303"
      ]
     },
     "execution_count": 60,
     "metadata": {},
     "output_type": "execute_result"
    }
   ],
   "source": [
    "0.0777542162540772/0.5696236795138544"
   ]
  },
  {
   "cell_type": "code",
   "execution_count": null,
   "id": "27c2346b",
   "metadata": {},
   "outputs": [],
   "source": []
  },
  {
   "cell_type": "code",
   "execution_count": null,
   "id": "ad57e790",
   "metadata": {},
   "outputs": [],
   "source": [
    "# assumptions\n",
    "# 1. residual mean = 0\n",
    "# 2. residual dist should be normal\n",
    "# 3. residual should have constant variance"
   ]
  },
  {
   "cell_type": "code",
   "execution_count": 61,
   "id": "0865c4c0",
   "metadata": {
    "ExecuteTime": {
     "end_time": "2023-11-27T05:47:15.561745Z",
     "start_time": "2023-11-27T05:47:15.540341Z"
    }
   },
   "outputs": [],
   "source": [
    "residual = y_test-pred"
   ]
  },
  {
   "cell_type": "code",
   "execution_count": 62,
   "id": "ce321103",
   "metadata": {
    "ExecuteTime": {
     "end_time": "2023-11-27T05:47:20.780964Z",
     "start_time": "2023-11-27T05:47:20.762678Z"
    }
   },
   "outputs": [
    {
     "data": {
      "text/plain": [
       "-0.0012194276541843563"
      ]
     },
     "execution_count": 62,
     "metadata": {},
     "output_type": "execute_result"
    }
   ],
   "source": [
    "residual.mean()"
   ]
  },
  {
   "cell_type": "code",
   "execution_count": 63,
   "id": "78e66dfa",
   "metadata": {
    "ExecuteTime": {
     "end_time": "2023-11-27T05:47:37.655601Z",
     "start_time": "2023-11-27T05:47:34.929245Z"
    }
   },
   "outputs": [
    {
     "data": {
      "text/plain": [
       "<Axes: ylabel='Density'>"
      ]
     },
     "execution_count": 63,
     "metadata": {},
     "output_type": "execute_result"
    },
    {
     "data": {
      "image/png": "[encoded data removed]",
      "text/plain": [
       "<Figure size 640x480 with 1 Axes>"
      ]
     },
     "metadata": {},
     "output_type": "display_data"
    }
   ],
   "source": [
    "sns.kdeplot(residual)"
   ]
  },
  {
   "cell_type": "code",
   "execution_count": 66,
   "id": "80160858",
   "metadata": {
    "ExecuteTime": {
     "end_time": "2023-11-27T06:31:43.322456Z",
     "start_time": "2023-11-27T06:31:43.024620Z"
    }
   },
   "outputs": [
    {
     "data": {
      "application/javascript": [
       "\n",
       "        if (window._pyforest_update_imports_cell) { window._pyforest_update_imports_cell('import pandas as pd\\nimport matplotlib.pyplot as plt\\nimport statsmodels.api as sm\\nfrom sklearn.model_selection import train_test_split'); }\n",
       "    "
      ],
      "text/plain": [
       "<IPython.core.display.Javascript object>"
      ]
     },
     "metadata": {},
     "output_type": "display_data"
    },
    {
     "data": {
      "text/plain": [
       "<matplotlib.collections.LineCollection at 0x25b6397a590>"
      ]
     },
     "execution_count": 66,
     "metadata": {},
     "output_type": "execute_result"
    },
    {
     "data": {
      "image/png": "[encoded data removed]",
      "text/plain": [
       "<Figure size 640x480 with 1 Axes>"
      ]
     },
     "metadata": {},
     "output_type": "display_data"
    }
   ],
   "source": [
    "sns.scatterplot(x = pred, y = residual)\n",
    "plt.hlines(0, 4, 7, colors = 'red')"
   ]
  },
  {
   "cell_type": "code",
   "execution_count": null,
   "id": "a8d6916d",
   "metadata": {},
   "outputs": [],
   "source": []
  },
  {
   "cell_type": "code",
   "execution_count": null,
   "id": "efbce798",
   "metadata": {},
   "outputs": [],
   "source": []
  },
  {
   "cell_type": "code",
   "execution_count": null,
   "id": "d23b4b5c",
   "metadata": {},
   "outputs": [],
   "source": []
  },
  {
   "cell_type": "code",
   "execution_count": null,
   "id": "f91efba0",
   "metadata": {},
   "outputs": [],
   "source": []
  },
  {
   "cell_type": "code",
   "execution_count": null,
   "id": "eabf425e",
   "metadata": {},
   "outputs": [],
   "source": []
  },
  {
   "cell_type": "code",
   "execution_count": null,
   "id": "65c88a1f",
   "metadata": {},
   "outputs": [],
   "source": []
  },
  {
   "cell_type": "code",
   "execution_count": null,
   "id": "83e5cf29",
   "metadata": {},
   "outputs": [],
   "source": []
  },
  {
   "cell_type": "code",
   "execution_count": null,
   "id": "c0dbb2fb",
   "metadata": {},
   "outputs": [],
   "source": []
  },
  {
   "cell_type": "code",
   "execution_count": null,
   "id": "d7fc05dd",
   "metadata": {},
   "outputs": [],
   "source": []
  },
  {
   "cell_type": "code",
   "execution_count": null,
   "id": "0ed6667d",
   "metadata": {},
   "outputs": [],
   "source": []
  },
  {
   "cell_type": "code",
   "execution_count": null,
   "id": "e2eb8050",
   "metadata": {},
   "outputs": [],
   "source": []
  },
  {
   "cell_type": "code",
   "execution_count": null,
   "id": "5cd1e9d6",
   "metadata": {},
   "outputs": [],
   "source": []
  },
  {
   "cell_type": "code",
   "execution_count": null,
   "id": "5b0e897e",
   "metadata": {},
   "outputs": [],
   "source": []
  },
  {
   "cell_type": "code",
   "execution_count": null,
   "id": "887537ba",
   "metadata": {},
   "outputs": [],
   "source": []
  },
  {
   "cell_type": "code",
   "execution_count": null,
   "id": "d7d9d9c0",
   "metadata": {},
   "outputs": [],
   "source": []
  },
  {
   "cell_type": "code",
   "execution_count": null,
   "id": "bee7c750",
   "metadata": {},
   "outputs": [],
   "source": []
  },
  {
   "cell_type": "code",
   "execution_count": null,
   "id": "27f9cb13",
   "metadata": {},
   "outputs": [],
   "source": []
  },
  {
   "cell_type": "code",
   "execution_count": null,
   "id": "21ae5ec7",
   "metadata": {},
   "outputs": [],
   "source": []
  }
 ],
 "metadata": {
  "kernelspec": {
   "display_name": "Python 3 (ipykernel)",
   "language": "python",
   "name": "python3"
  },
  "language_info": {
   "codemirror_mode": {
    "name": "ipython",
    "version": 3
   },
   "file_extension": ".py",
   "mimetype": "text/x-python",
   "name": "python",
   "nbconvert_exporter": "python",
   "pygments_lexer": "ipython3",
   "version": "3.11.5"
  },
  "toc": {
   "base_numbering": 1,
   "nav_menu": {},
   "number_sections": true,
   "sideBar": true,
   "skip_h1_title": false,
   "title_cell": "Table of Contents",
   "title_sidebar": "Contents",
   "toc_cell": false,
   "toc_position": {},
   "toc_section_display": true,
   "toc_window_display": false
  },
  "varInspector": {
   "cols": {
    "lenName": 16,
    "lenType": 16,
    "lenVar": 40
   },
   "kernels_config": {
    "python": {
     "delete_cmd_postfix": "",
     "delete_cmd_prefix": "del ",
     "library": "var_list.py",
     "varRefreshCmd": "print(var_dic_list())"
    },
    "r": {
     "delete_cmd_postfix": ") ",
     "delete_cmd_prefix": "rm(",
     "library": "var_list.r",
     "varRefreshCmd": "cat(var_dic_list()) "
    }
   },
   "types_to_exclude": [
    "module",
    "function",
    "builtin_function_or_method",
    "instance",
    "_Feature"
   ],
   "window_display": false
  }
 },
 "nbformat": 4,
 "nbformat_minor": 5
}
